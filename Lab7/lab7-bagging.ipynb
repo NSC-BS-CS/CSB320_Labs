{
 "cells": [
  {
   "cell_type": "markdown",
   "metadata": {},
   "source": [
    "### Lab 7 - Bagging\n",
    "\n",
    "The msleep_clean dataset contains information on sleep habits for 47 mammals. Features include length of REM sleep, time spent awake, brain weight, and body weight.\n",
    "\n",
    "Create a dataframe X containing the features awake, brainwt, and bodywt, in that order.  \n",
    "Create a dataframe y containing sleep_rem.  \n",
    "Initialize and fit a bagging regressor with 30 base estimators, a random state of 10, and oob_score=True.  \n",
    "Ex: If 10 base estimators are used, the output should be:\n",
    "\n",
    "```python\n",
    "0.3147\n",
    "[3.1    2.98   0.7818 1.6867 0.7167 1.8533 2.3091 2.0727 1.5231 2.1727\n",
    " 2.95   0.5375 2.9417 2.8727 0.9    0.7765 1.9818 2.5    1.8692 1.57\n",
    " 0.9692 1.2444 1.6462 2.75   2.4    2.1364 4.1727 1.7118 0.71   1.3909\n",
    " 2.13   1.9933 3.1429 3.3533 0.51   2.0077 1.3909 2.0143 2.425  1.975\n",
    " 2.6    2.3    1.2    0.58   2.8222 1.9222 0.7583 1.24  ]\n",
    "```\n"
   ]
  },
  {
   "cell_type": "code",
   "execution_count": 4,
   "metadata": {},
   "outputs": [],
   "source": [
    "import numpy as np\n",
    "import pandas as pd\n",
    "from sklearn.ensemble import BaggingRegressor\n"
   ]
  },
  {
   "cell_type": "code",
   "execution_count": null,
   "metadata": {},
   "outputs": [],
   "source": [
    "df = pd.read_csv('data/msleep_clean.csv')"
   ]
  },
  {
   "cell_type": "code",
   "execution_count": null,
   "metadata": {},
   "outputs": [],
   "source": [
    "# Create a dataframe X containing the features awake, brainwt, and bodywt, in that order\n",
    "# Your code here\n",
    "\n",
    "# Create a dataframe y containing sleep_rem\n",
    "# Your code here"
   ]
  },
  {
   "cell_type": "code",
   "execution_count": null,
   "metadata": {},
   "outputs": [],
   "source": [
    "# Initialize and fit bagging regressor with 30 base estimators, a random state of 10, and oob_score=True\n",
    "sleepModel = # Your code here\n",
    "# Your code here"
   ]
  },
  {
   "cell_type": "code",
   "execution_count": null,
   "metadata": {},
   "outputs": [],
   "source": [
    "# Calculate out-of-bag accuracy\n",
    "print(np.round(sleepModel.oob_score_, 4))\n",
    "\n",
    "# Calculate predictions from out-of-bag estimate\n",
    "print(np.round(sleepModel.oob_prediction_, 4))"
   ]
  }
 ],
 "metadata": {
  "kernelspec": {
   "display_name": "CSB320_Labs",
   "language": "python",
   "name": "python3"
  },
  "language_info": {
   "codemirror_mode": {
    "name": "ipython",
    "version": 3
   },
   "file_extension": ".py",
   "mimetype": "text/x-python",
   "name": "python",
   "nbconvert_exporter": "python",
   "pygments_lexer": "ipython3",
   "version": "3.10.16"
  }
 },
 "nbformat": 4,
 "nbformat_minor": 2
}
